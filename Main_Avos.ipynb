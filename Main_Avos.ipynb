import pandas as pd
import numpy as pn
from matplotlib import pyplot as plt
from sklearn.preprocessing import LabelEncoder

Avos=pd.read_csv("avocado 2.csv")
Avos.head()

labelencoder = LabelEncoder()
# Assigning numerical values and storing in another column
Avos['type'] = labelencoder.fit_transform(Avos['type'])
Avos['region'] = labelencoder.fit_transform(Avos['region'])
Avos

Avos.isnull().sum()

Avos.duplicated().sum()

Avos.describe()

Avos["region"].value_counts().unique()

Avos["Year"].value_counts()

Avos["type"].value_counts()

# searching fro empty rows
L = Avos.index[Avos.isna().all(axis=1)].tolist()
L

fig, axs = plt.subplots(3,5, figsize=(20,6),)
fig.subplots_adjust(hspace = 0.5, wspace=.2)
axs = axs.ravel()

for index, column in enumerate(Avos.columns):
    axs[index-1].set_title("{} vs. AveragePrice".format(column),fontsize=16)
    axs[index-1].scatter(x=Avos[column],y=Avos['AveragePrice'],color='blue',edgecolor='k')

fig.tight_layout(pad=1)

!pip install sklearn

# FIRST MODEL
# import regression module
from sklearn.linear_model import LinearRegression

# split predictors and response
x = Avos.drop(['AveragePrice','type','region'], axis=1)
y = Avos['AveragePrice']

# create model object
lm = LinearRegression()

# import train/test split module
from sklearn.model_selection import train_test_split

# split into train and test
X_train, X_test, y_train, y_test = train_test_split(x, 
                                                    y, 
                                                    test_size=0.20, 
                                                    random_state=1)

# train model
lm.fit(X_train, y_train)

# extract model intercept
beta_0 = float(lm.intercept_)
print("intercept ",beta_0)

# extract model coeffs
beta_js = pd.DataFrame(lm.coef_, x.columns, columns=['Coefficient'])
print("Coefficient ",beta_js)


y_pred = lm.predict(X_train)
print("predicted values ",y_pred)

print("R2 score: ", lm.score(X_train, y_train))


# SECOND MODEL R2 IMPROVED

# import modules
import matplotlib.pyplot as mp
import pandas as pd
import seaborn as sb
  
# import file with data
  
# prints data that will be plotted
# columns shown here are selected by corr() since
# they are ideal for the plot
print(Avos.corr())
  
# plotting correlation heatmap
dataplot = sb.heatmap(Avos.corr(), cmap="YlGnBu", annot=True)
  
# displaying heatmap
mp.show()

# split predictors and response
x = Avos.drop(['AveragePrice','region','Month','Date','Year','Total Volume','4225','4770','Total Bags','Small Bags','Large Bags','XLarge Bags'], axis=1)
y = Avos['AveragePrice']
from sklearn.preprocessing import StandardScaler
 
scaler= StandardScaler()
 
# Splitting the independent and dependent variables

 
# standardization 
scale = scaler.fit_transform(x) 
print(type(scale))


new_x = pd.DataFrame(scale, columns = ['type', '4046'])
new_x

# import regression module
from sklearn.linear_model import LinearRegression

# split predictors and response
x = Avos.drop(['AveragePrice','type','region'], axis=1)
y = Avos['AveragePrice']

# create model object
lm = LinearRegression()

# import train/test split module
from sklearn.model_selection import train_test_split

# split into train and test
X_train, X_test, y_train, y_test = train_test_split(new_x, 
                                                    y, 
                                                    test_size=0.20, 
                                                    random_state=1)

# train model
lm.fit(X_train, y_train)

# extract model intercept
beta_0 = float(lm.intercept_)
print("intercept ",beta_0)


# extract model coeffs
beta_js = pd.DataFrame(lm.coef_, new_x.columns, columns=['Coefficient'])
print("Coefficient ",beta_js)


y_pred = lm.predict(X_train)
print("predicted values ",y_pred)

print("R2 score: ", lm.score(X_train, y_train))
